{
 "cells": [
  {
   "cell_type": "code",
   "execution_count": 1,
   "metadata": {},
   "outputs": [],
   "source": [
    "from mtgsdk import Card\n",
    "from mtgsdk import Set\n",
    "from mtgsdk import Type"
   ]
  },
  {
   "cell_type": "code",
   "execution_count": 2,
   "metadata": {},
   "outputs": [],
   "source": [
    "cards = Card.where(gameFormat='standard').where(types='creature').all()"
   ]
  },
  {
   "cell_type": "code",
   "execution_count": 8,
   "metadata": {},
   "outputs": [
    {
     "data": {
      "text/plain": [
       "1780"
      ]
     },
     "execution_count": 8,
     "metadata": {},
     "output_type": "execute_result"
    }
   ],
   "source": [
    "len(cards)"
   ]
  },
  {
   "cell_type": "code",
   "execution_count": 110,
   "metadata": {},
   "outputs": [],
   "source": [
    "import pandas as pd\n",
    "card_df = pd.DataFrame(columns=['name', 'artist', 'cmc', 'color', 'set', \n",
    "                                'rarity', 'power', 'toughness'])\n",
    "for i in range(len(cards)):\n",
    "    crd   = cards[i]\n",
    "    name  = crd.name if crd.name else 'NA'\n",
    "    art   = crd.artist if crd.artist else 'NA'\n",
    "    cmc   = crd.cmc if crd.cmc else 'Free'\n",
    "    color = ','.join(crd.color_identity) if crd.color_identity else 'Colorless'\n",
    "    set_  = crd.set_name if crd.set_name else 'NA'\n",
    "    rare  = crd.rarity if crd.rarity else 'NA'\n",
    "    power = crd.power if crd.power else 'NA'\n",
    "    tough = crd.toughness if crd.toughness else 'NA'\n",
    "    \n",
    "    card_df.loc[i] = [name, art, cmc, color, set_, rare, power, tough]"
   ]
  },
  {
   "cell_type": "code",
   "execution_count": 111,
   "metadata": {},
   "outputs": [
    {
     "data": {
      "text/html": [
       "<div>\n",
       "<style scoped>\n",
       "    .dataframe tbody tr th:only-of-type {\n",
       "        vertical-align: middle;\n",
       "    }\n",
       "\n",
       "    .dataframe tbody tr th {\n",
       "        vertical-align: top;\n",
       "    }\n",
       "\n",
       "    .dataframe thead th {\n",
       "        text-align: right;\n",
       "    }\n",
       "</style>\n",
       "<table border=\"1\" class=\"dataframe\">\n",
       "  <thead>\n",
       "    <tr style=\"text-align: right;\">\n",
       "      <th></th>\n",
       "      <th>name</th>\n",
       "      <th>artist</th>\n",
       "      <th>cmc</th>\n",
       "      <th>color</th>\n",
       "      <th>set</th>\n",
       "      <th>rarity</th>\n",
       "      <th>power</th>\n",
       "      <th>toughness</th>\n",
       "    </tr>\n",
       "  </thead>\n",
       "  <tbody>\n",
       "    <tr>\n",
       "      <td>0</td>\n",
       "      <td>Air Elemental</td>\n",
       "      <td>Kev Walker</td>\n",
       "      <td>5</td>\n",
       "      <td>U</td>\n",
       "      <td>Tenth Edition</td>\n",
       "      <td>Uncommon</td>\n",
       "      <td>4</td>\n",
       "      <td>4</td>\n",
       "    </tr>\n",
       "    <tr>\n",
       "      <td>1</td>\n",
       "      <td>Air Elemental</td>\n",
       "      <td>Kev Walker</td>\n",
       "      <td>5</td>\n",
       "      <td>U</td>\n",
       "      <td>Tenth Edition</td>\n",
       "      <td>Uncommon</td>\n",
       "      <td>4</td>\n",
       "      <td>4</td>\n",
       "    </tr>\n",
       "    <tr>\n",
       "      <td>2</td>\n",
       "      <td>Canopy Spider</td>\n",
       "      <td>Christopher Rush</td>\n",
       "      <td>2</td>\n",
       "      <td>G</td>\n",
       "      <td>Tenth Edition</td>\n",
       "      <td>Common</td>\n",
       "      <td>1</td>\n",
       "      <td>3</td>\n",
       "    </tr>\n",
       "    <tr>\n",
       "      <td>3</td>\n",
       "      <td>Canopy Spider</td>\n",
       "      <td>Christopher Rush</td>\n",
       "      <td>2</td>\n",
       "      <td>G</td>\n",
       "      <td>Tenth Edition</td>\n",
       "      <td>Common</td>\n",
       "      <td>1</td>\n",
       "      <td>3</td>\n",
       "    </tr>\n",
       "    <tr>\n",
       "      <td>4</td>\n",
       "      <td>Gravedigger</td>\n",
       "      <td>Dermot Power</td>\n",
       "      <td>4</td>\n",
       "      <td>B</td>\n",
       "      <td>Tenth Edition</td>\n",
       "      <td>Common</td>\n",
       "      <td>2</td>\n",
       "      <td>2</td>\n",
       "    </tr>\n",
       "  </tbody>\n",
       "</table>\n",
       "</div>"
      ],
      "text/plain": [
       "            name            artist cmc color            set    rarity power  \\\n",
       "0  Air Elemental        Kev Walker   5     U  Tenth Edition  Uncommon     4   \n",
       "1  Air Elemental        Kev Walker   5     U  Tenth Edition  Uncommon     4   \n",
       "2  Canopy Spider  Christopher Rush   2     G  Tenth Edition    Common     1   \n",
       "3  Canopy Spider  Christopher Rush   2     G  Tenth Edition    Common     1   \n",
       "4    Gravedigger      Dermot Power   4     B  Tenth Edition    Common     2   \n",
       "\n",
       "  toughness  \n",
       "0         4  \n",
       "1         4  \n",
       "2         3  \n",
       "3         3  \n",
       "4         2  "
      ]
     },
     "execution_count": 111,
     "metadata": {},
     "output_type": "execute_result"
    }
   ],
   "source": [
    "card_df.head()"
   ]
  },
  {
   "cell_type": "code",
   "execution_count": 112,
   "metadata": {},
   "outputs": [],
   "source": [
    "card_df = card_df[~card_df.duplicated(subset='name',keep='last')]\n",
    "card_df.reset_index(drop=True, inplace=True)"
   ]
  },
  {
   "cell_type": "code",
   "execution_count": 114,
   "metadata": {},
   "outputs": [],
   "source": [
    "card_df.to_csv('cards/creatures.csv', index=False)"
   ]
  },
  {
   "cell_type": "code",
   "execution_count": 93,
   "metadata": {},
   "outputs": [],
   "source": [
    "instants = Card.where(gameFormat='standard').where(types='instant').all()\n",
    "spells = Card.where(gameFormat='standard').where(types='sorcery').all()\n",
    "enchants = Card.where(gameFormat='standard').where(types='enchantment').all()"
   ]
  },
  {
   "cell_type": "code",
   "execution_count": 102,
   "metadata": {},
   "outputs": [],
   "source": [
    "instants.extend(spells).extend(enchants)"
   ]
  },
  {
   "cell_type": "code",
   "execution_count": 103,
   "metadata": {},
   "outputs": [
    {
     "data": {
      "text/plain": [
       "1592"
      ]
     },
     "execution_count": 103,
     "metadata": {},
     "output_type": "execute_result"
    }
   ],
   "source": [
    "len(instants)"
   ]
  },
  {
   "cell_type": "code",
   "execution_count": 106,
   "metadata": {},
   "outputs": [],
   "source": [
    "spell_df = pd.DataFrame(columns=['name', 'artist', 'cmc', 'color', 'set', 'rarity'])\n",
    "\n",
    "for i in range(len(instants)):\n",
    "    crd   = instants[i]\n",
    "    name  = crd.name if crd.name else 'NA'\n",
    "    art   = crd.artist if crd.artist else 'NA'\n",
    "    cmc   = crd.cmc if crd.cmc else 'Free'\n",
    "    color = ','.join(crd.color_identity) if crd.color_identity else 'Colorless'\n",
    "    set_  = crd.set_name if crd.set_name else 'NA'\n",
    "    rare  = crd.rarity if crd.rarity else 'NA'\n",
    "    \n",
    "    spell_df.loc[i] = [name, art, cmc, color, set_, rare]"
   ]
  },
  {
   "cell_type": "code",
   "execution_count": 117,
   "metadata": {},
   "outputs": [],
   "source": [
    "spell_df = spell_df[~spell_df.duplicated(subset='name',keep='last')]\n",
    "spell_df.reset_index(drop=True, inplace=True)"
   ]
  },
  {
   "cell_type": "code",
   "execution_count": 118,
   "metadata": {},
   "outputs": [],
   "source": [
    "spell_df.to_csv('cards/spells.csv', index=False)"
   ]
  },
  {
   "cell_type": "code",
   "execution_count": null,
   "metadata": {},
   "outputs": [],
   "source": []
  }
 ],
 "metadata": {
  "kernelspec": {
   "display_name": "Python 3",
   "language": "python",
   "name": "python3"
  },
  "language_info": {
   "codemirror_mode": {
    "name": "ipython",
    "version": 3
   },
   "file_extension": ".py",
   "mimetype": "text/x-python",
   "name": "python",
   "nbconvert_exporter": "python",
   "pygments_lexer": "ipython3",
   "version": "3.7.4"
  }
 },
 "nbformat": 4,
 "nbformat_minor": 4
}
